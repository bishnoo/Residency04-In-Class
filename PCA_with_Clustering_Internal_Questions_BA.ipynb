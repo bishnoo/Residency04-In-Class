{
 "cells": [
  {
   "cell_type": "markdown",
   "metadata": {},
   "source": [
    "## The data set has information about features of silhouette extracted from the images of different cars\n",
    "\n",
    "Four \"Corgie\" model vehicles were used for the experiment: a double decker bus, Cheverolet van, Saab 9000 and an Opel Manta 400 cars. This particular combination of vehicles was chosen with the expectation that the bus, van and either one of the cars would be readily distinguishable, but it would be more difficult to distinguish between the cars.\n",
    "\n"
   ]
  },
  {
   "cell_type": "markdown",
   "metadata": {},
   "source": [
    "### Read the dataset using function .dropna() - to avoid dealing with NAs "
   ]
  },
  {
   "cell_type": "code",
   "execution_count": 1,
   "metadata": {
    "collapsed": true
   },
   "outputs": [],
   "source": [
    "%matplotlib inline\n",
    "import numpy as np\n",
    "import pandas as pd\n",
    "import seaborn as sns\n",
    "import matplotlib.pyplot as plt"
   ]
  },
  {
   "cell_type": "code",
   "execution_count": 2,
   "metadata": {
    "collapsed": true
   },
   "outputs": [],
   "source": [
    "veh = pd.read_csv(\"vehicle.csv\").dropna()"
   ]
  },
  {
   "cell_type": "markdown",
   "metadata": {},
   "source": [
    "### Sample the data and check the data for any missing values"
   ]
  },
  {
   "cell_type": "code",
   "execution_count": 3,
   "metadata": {},
   "outputs": [
    {
     "data": {
      "text/html": [
       "<div>\n",
       "<style scoped>\n",
       "    .dataframe tbody tr th:only-of-type {\n",
       "        vertical-align: middle;\n",
       "    }\n",
       "\n",
       "    .dataframe tbody tr th {\n",
       "        vertical-align: top;\n",
       "    }\n",
       "\n",
       "    .dataframe thead th {\n",
       "        text-align: right;\n",
       "    }\n",
       "</style>\n",
       "<table border=\"1\" class=\"dataframe\">\n",
       "  <thead>\n",
       "    <tr style=\"text-align: right;\">\n",
       "      <th></th>\n",
       "      <th>compactness</th>\n",
       "      <th>circularity</th>\n",
       "      <th>distance_circularity</th>\n",
       "      <th>radius_ratio</th>\n",
       "      <th>pr.axis_aspect_ratio</th>\n",
       "      <th>max.length_aspect_ratio</th>\n",
       "      <th>scatter_ratio</th>\n",
       "      <th>elongatedness</th>\n",
       "      <th>pr.axis_rectangularity</th>\n",
       "      <th>max.length_rectangularity</th>\n",
       "      <th>scaled_variance</th>\n",
       "      <th>scaled_variance.1</th>\n",
       "      <th>scaled_radius_of_gyration</th>\n",
       "      <th>scaled_radius_of_gyration.1</th>\n",
       "      <th>skewness_about</th>\n",
       "      <th>skewness_about.1</th>\n",
       "      <th>skewness_about.2</th>\n",
       "      <th>hollows_ratio</th>\n",
       "      <th>class</th>\n",
       "    </tr>\n",
       "  </thead>\n",
       "  <tbody>\n",
       "    <tr>\n",
       "      <th>0</th>\n",
       "      <td>95</td>\n",
       "      <td>48.0</td>\n",
       "      <td>83.0</td>\n",
       "      <td>178.0</td>\n",
       "      <td>72.0</td>\n",
       "      <td>10</td>\n",
       "      <td>162.0</td>\n",
       "      <td>42.0</td>\n",
       "      <td>20.0</td>\n",
       "      <td>159</td>\n",
       "      <td>176.0</td>\n",
       "      <td>379.0</td>\n",
       "      <td>184.0</td>\n",
       "      <td>70.0</td>\n",
       "      <td>6.0</td>\n",
       "      <td>16.0</td>\n",
       "      <td>187.0</td>\n",
       "      <td>197</td>\n",
       "      <td>van</td>\n",
       "    </tr>\n",
       "    <tr>\n",
       "      <th>1</th>\n",
       "      <td>91</td>\n",
       "      <td>41.0</td>\n",
       "      <td>84.0</td>\n",
       "      <td>141.0</td>\n",
       "      <td>57.0</td>\n",
       "      <td>9</td>\n",
       "      <td>149.0</td>\n",
       "      <td>45.0</td>\n",
       "      <td>19.0</td>\n",
       "      <td>143</td>\n",
       "      <td>170.0</td>\n",
       "      <td>330.0</td>\n",
       "      <td>158.0</td>\n",
       "      <td>72.0</td>\n",
       "      <td>9.0</td>\n",
       "      <td>14.0</td>\n",
       "      <td>189.0</td>\n",
       "      <td>199</td>\n",
       "      <td>van</td>\n",
       "    </tr>\n",
       "    <tr>\n",
       "      <th>2</th>\n",
       "      <td>104</td>\n",
       "      <td>50.0</td>\n",
       "      <td>106.0</td>\n",
       "      <td>209.0</td>\n",
       "      <td>66.0</td>\n",
       "      <td>10</td>\n",
       "      <td>207.0</td>\n",
       "      <td>32.0</td>\n",
       "      <td>23.0</td>\n",
       "      <td>158</td>\n",
       "      <td>223.0</td>\n",
       "      <td>635.0</td>\n",
       "      <td>220.0</td>\n",
       "      <td>73.0</td>\n",
       "      <td>14.0</td>\n",
       "      <td>9.0</td>\n",
       "      <td>188.0</td>\n",
       "      <td>196</td>\n",
       "      <td>car</td>\n",
       "    </tr>\n",
       "    <tr>\n",
       "      <th>3</th>\n",
       "      <td>93</td>\n",
       "      <td>41.0</td>\n",
       "      <td>82.0</td>\n",
       "      <td>159.0</td>\n",
       "      <td>63.0</td>\n",
       "      <td>9</td>\n",
       "      <td>144.0</td>\n",
       "      <td>46.0</td>\n",
       "      <td>19.0</td>\n",
       "      <td>143</td>\n",
       "      <td>160.0</td>\n",
       "      <td>309.0</td>\n",
       "      <td>127.0</td>\n",
       "      <td>63.0</td>\n",
       "      <td>6.0</td>\n",
       "      <td>10.0</td>\n",
       "      <td>199.0</td>\n",
       "      <td>207</td>\n",
       "      <td>van</td>\n",
       "    </tr>\n",
       "    <tr>\n",
       "      <th>4</th>\n",
       "      <td>85</td>\n",
       "      <td>44.0</td>\n",
       "      <td>70.0</td>\n",
       "      <td>205.0</td>\n",
       "      <td>103.0</td>\n",
       "      <td>52</td>\n",
       "      <td>149.0</td>\n",
       "      <td>45.0</td>\n",
       "      <td>19.0</td>\n",
       "      <td>144</td>\n",
       "      <td>241.0</td>\n",
       "      <td>325.0</td>\n",
       "      <td>188.0</td>\n",
       "      <td>127.0</td>\n",
       "      <td>9.0</td>\n",
       "      <td>11.0</td>\n",
       "      <td>180.0</td>\n",
       "      <td>183</td>\n",
       "      <td>bus</td>\n",
       "    </tr>\n",
       "  </tbody>\n",
       "</table>\n",
       "</div>"
      ],
      "text/plain": [
       "   compactness  circularity  distance_circularity  radius_ratio  \\\n",
       "0           95         48.0                  83.0         178.0   \n",
       "1           91         41.0                  84.0         141.0   \n",
       "2          104         50.0                 106.0         209.0   \n",
       "3           93         41.0                  82.0         159.0   \n",
       "4           85         44.0                  70.0         205.0   \n",
       "\n",
       "   pr.axis_aspect_ratio  max.length_aspect_ratio  scatter_ratio  \\\n",
       "0                  72.0                       10          162.0   \n",
       "1                  57.0                        9          149.0   \n",
       "2                  66.0                       10          207.0   \n",
       "3                  63.0                        9          144.0   \n",
       "4                 103.0                       52          149.0   \n",
       "\n",
       "   elongatedness  pr.axis_rectangularity  max.length_rectangularity  \\\n",
       "0           42.0                    20.0                        159   \n",
       "1           45.0                    19.0                        143   \n",
       "2           32.0                    23.0                        158   \n",
       "3           46.0                    19.0                        143   \n",
       "4           45.0                    19.0                        144   \n",
       "\n",
       "   scaled_variance  scaled_variance.1  scaled_radius_of_gyration  \\\n",
       "0            176.0              379.0                      184.0   \n",
       "1            170.0              330.0                      158.0   \n",
       "2            223.0              635.0                      220.0   \n",
       "3            160.0              309.0                      127.0   \n",
       "4            241.0              325.0                      188.0   \n",
       "\n",
       "   scaled_radius_of_gyration.1  skewness_about  skewness_about.1  \\\n",
       "0                         70.0             6.0              16.0   \n",
       "1                         72.0             9.0              14.0   \n",
       "2                         73.0            14.0               9.0   \n",
       "3                         63.0             6.0              10.0   \n",
       "4                        127.0             9.0              11.0   \n",
       "\n",
       "   skewness_about.2  hollows_ratio class  \n",
       "0             187.0            197   van  \n",
       "1             189.0            199   van  \n",
       "2             188.0            196   car  \n",
       "3             199.0            207   van  \n",
       "4             180.0            183   bus  "
      ]
     },
     "execution_count": 3,
     "metadata": {},
     "output_type": "execute_result"
    }
   ],
   "source": [
    "veh.head()"
   ]
  },
  {
   "cell_type": "code",
   "execution_count": 4,
   "metadata": {},
   "outputs": [
    {
     "data": {
      "text/html": [
       "<div>\n",
       "<style scoped>\n",
       "    .dataframe tbody tr th:only-of-type {\n",
       "        vertical-align: middle;\n",
       "    }\n",
       "\n",
       "    .dataframe tbody tr th {\n",
       "        vertical-align: top;\n",
       "    }\n",
       "\n",
       "    .dataframe thead th {\n",
       "        text-align: right;\n",
       "    }\n",
       "</style>\n",
       "<table border=\"1\" class=\"dataframe\">\n",
       "  <thead>\n",
       "    <tr style=\"text-align: right;\">\n",
       "      <th></th>\n",
       "      <th>count</th>\n",
       "      <th>mean</th>\n",
       "      <th>std</th>\n",
       "      <th>min</th>\n",
       "      <th>25%</th>\n",
       "      <th>50%</th>\n",
       "      <th>75%</th>\n",
       "      <th>max</th>\n",
       "    </tr>\n",
       "  </thead>\n",
       "  <tbody>\n",
       "    <tr>\n",
       "      <th>compactness</th>\n",
       "      <td>813.0</td>\n",
       "      <td>93.656827</td>\n",
       "      <td>8.233751</td>\n",
       "      <td>73.0</td>\n",
       "      <td>87.0</td>\n",
       "      <td>93.0</td>\n",
       "      <td>100.0</td>\n",
       "      <td>119.0</td>\n",
       "    </tr>\n",
       "    <tr>\n",
       "      <th>circularity</th>\n",
       "      <td>813.0</td>\n",
       "      <td>44.803198</td>\n",
       "      <td>6.146659</td>\n",
       "      <td>33.0</td>\n",
       "      <td>40.0</td>\n",
       "      <td>44.0</td>\n",
       "      <td>49.0</td>\n",
       "      <td>59.0</td>\n",
       "    </tr>\n",
       "    <tr>\n",
       "      <th>distance_circularity</th>\n",
       "      <td>813.0</td>\n",
       "      <td>82.043050</td>\n",
       "      <td>15.783070</td>\n",
       "      <td>40.0</td>\n",
       "      <td>70.0</td>\n",
       "      <td>79.0</td>\n",
       "      <td>98.0</td>\n",
       "      <td>112.0</td>\n",
       "    </tr>\n",
       "    <tr>\n",
       "      <th>radius_ratio</th>\n",
       "      <td>813.0</td>\n",
       "      <td>169.098401</td>\n",
       "      <td>33.615402</td>\n",
       "      <td>104.0</td>\n",
       "      <td>141.0</td>\n",
       "      <td>167.0</td>\n",
       "      <td>195.0</td>\n",
       "      <td>333.0</td>\n",
       "    </tr>\n",
       "    <tr>\n",
       "      <th>pr.axis_aspect_ratio</th>\n",
       "      <td>813.0</td>\n",
       "      <td>61.774908</td>\n",
       "      <td>7.973000</td>\n",
       "      <td>47.0</td>\n",
       "      <td>57.0</td>\n",
       "      <td>61.0</td>\n",
       "      <td>65.0</td>\n",
       "      <td>138.0</td>\n",
       "    </tr>\n",
       "    <tr>\n",
       "      <th>max.length_aspect_ratio</th>\n",
       "      <td>813.0</td>\n",
       "      <td>8.599016</td>\n",
       "      <td>4.677174</td>\n",
       "      <td>2.0</td>\n",
       "      <td>7.0</td>\n",
       "      <td>8.0</td>\n",
       "      <td>10.0</td>\n",
       "      <td>55.0</td>\n",
       "    </tr>\n",
       "    <tr>\n",
       "      <th>scatter_ratio</th>\n",
       "      <td>813.0</td>\n",
       "      <td>168.563346</td>\n",
       "      <td>33.082186</td>\n",
       "      <td>112.0</td>\n",
       "      <td>146.0</td>\n",
       "      <td>157.0</td>\n",
       "      <td>198.0</td>\n",
       "      <td>265.0</td>\n",
       "    </tr>\n",
       "    <tr>\n",
       "      <th>elongatedness</th>\n",
       "      <td>813.0</td>\n",
       "      <td>40.988930</td>\n",
       "      <td>7.803380</td>\n",
       "      <td>26.0</td>\n",
       "      <td>33.0</td>\n",
       "      <td>43.0</td>\n",
       "      <td>46.0</td>\n",
       "      <td>61.0</td>\n",
       "    </tr>\n",
       "    <tr>\n",
       "      <th>pr.axis_rectangularity</th>\n",
       "      <td>813.0</td>\n",
       "      <td>20.558426</td>\n",
       "      <td>2.573184</td>\n",
       "      <td>17.0</td>\n",
       "      <td>19.0</td>\n",
       "      <td>20.0</td>\n",
       "      <td>23.0</td>\n",
       "      <td>29.0</td>\n",
       "    </tr>\n",
       "    <tr>\n",
       "      <th>max.length_rectangularity</th>\n",
       "      <td>813.0</td>\n",
       "      <td>147.891759</td>\n",
       "      <td>14.504648</td>\n",
       "      <td>118.0</td>\n",
       "      <td>137.0</td>\n",
       "      <td>146.0</td>\n",
       "      <td>159.0</td>\n",
       "      <td>188.0</td>\n",
       "    </tr>\n",
       "    <tr>\n",
       "      <th>scaled_variance</th>\n",
       "      <td>813.0</td>\n",
       "      <td>188.377614</td>\n",
       "      <td>31.165873</td>\n",
       "      <td>130.0</td>\n",
       "      <td>167.0</td>\n",
       "      <td>179.0</td>\n",
       "      <td>217.0</td>\n",
       "      <td>320.0</td>\n",
       "    </tr>\n",
       "    <tr>\n",
       "      <th>scaled_variance.1</th>\n",
       "      <td>813.0</td>\n",
       "      <td>438.382534</td>\n",
       "      <td>175.270368</td>\n",
       "      <td>184.0</td>\n",
       "      <td>318.0</td>\n",
       "      <td>364.0</td>\n",
       "      <td>586.0</td>\n",
       "      <td>1018.0</td>\n",
       "    </tr>\n",
       "    <tr>\n",
       "      <th>scaled_radius_of_gyration</th>\n",
       "      <td>813.0</td>\n",
       "      <td>174.252153</td>\n",
       "      <td>32.332161</td>\n",
       "      <td>109.0</td>\n",
       "      <td>149.0</td>\n",
       "      <td>173.0</td>\n",
       "      <td>198.0</td>\n",
       "      <td>268.0</td>\n",
       "    </tr>\n",
       "    <tr>\n",
       "      <th>scaled_radius_of_gyration.1</th>\n",
       "      <td>813.0</td>\n",
       "      <td>72.399754</td>\n",
       "      <td>7.475994</td>\n",
       "      <td>59.0</td>\n",
       "      <td>67.0</td>\n",
       "      <td>71.0</td>\n",
       "      <td>75.0</td>\n",
       "      <td>135.0</td>\n",
       "    </tr>\n",
       "    <tr>\n",
       "      <th>skewness_about</th>\n",
       "      <td>813.0</td>\n",
       "      <td>6.351784</td>\n",
       "      <td>4.921476</td>\n",
       "      <td>0.0</td>\n",
       "      <td>2.0</td>\n",
       "      <td>6.0</td>\n",
       "      <td>9.0</td>\n",
       "      <td>22.0</td>\n",
       "    </tr>\n",
       "    <tr>\n",
       "      <th>skewness_about.1</th>\n",
       "      <td>813.0</td>\n",
       "      <td>12.687577</td>\n",
       "      <td>8.926951</td>\n",
       "      <td>0.0</td>\n",
       "      <td>6.0</td>\n",
       "      <td>11.0</td>\n",
       "      <td>19.0</td>\n",
       "      <td>41.0</td>\n",
       "    </tr>\n",
       "    <tr>\n",
       "      <th>skewness_about.2</th>\n",
       "      <td>813.0</td>\n",
       "      <td>188.979090</td>\n",
       "      <td>6.153681</td>\n",
       "      <td>176.0</td>\n",
       "      <td>184.0</td>\n",
       "      <td>189.0</td>\n",
       "      <td>193.0</td>\n",
       "      <td>206.0</td>\n",
       "    </tr>\n",
       "    <tr>\n",
       "      <th>hollows_ratio</th>\n",
       "      <td>813.0</td>\n",
       "      <td>195.729397</td>\n",
       "      <td>7.398781</td>\n",
       "      <td>181.0</td>\n",
       "      <td>191.0</td>\n",
       "      <td>197.0</td>\n",
       "      <td>201.0</td>\n",
       "      <td>211.0</td>\n",
       "    </tr>\n",
       "  </tbody>\n",
       "</table>\n",
       "</div>"
      ],
      "text/plain": [
       "                             count        mean         std    min    25%  \\\n",
       "compactness                  813.0   93.656827    8.233751   73.0   87.0   \n",
       "circularity                  813.0   44.803198    6.146659   33.0   40.0   \n",
       "distance_circularity         813.0   82.043050   15.783070   40.0   70.0   \n",
       "radius_ratio                 813.0  169.098401   33.615402  104.0  141.0   \n",
       "pr.axis_aspect_ratio         813.0   61.774908    7.973000   47.0   57.0   \n",
       "max.length_aspect_ratio      813.0    8.599016    4.677174    2.0    7.0   \n",
       "scatter_ratio                813.0  168.563346   33.082186  112.0  146.0   \n",
       "elongatedness                813.0   40.988930    7.803380   26.0   33.0   \n",
       "pr.axis_rectangularity       813.0   20.558426    2.573184   17.0   19.0   \n",
       "max.length_rectangularity    813.0  147.891759   14.504648  118.0  137.0   \n",
       "scaled_variance              813.0  188.377614   31.165873  130.0  167.0   \n",
       "scaled_variance.1            813.0  438.382534  175.270368  184.0  318.0   \n",
       "scaled_radius_of_gyration    813.0  174.252153   32.332161  109.0  149.0   \n",
       "scaled_radius_of_gyration.1  813.0   72.399754    7.475994   59.0   67.0   \n",
       "skewness_about               813.0    6.351784    4.921476    0.0    2.0   \n",
       "skewness_about.1             813.0   12.687577    8.926951    0.0    6.0   \n",
       "skewness_about.2             813.0  188.979090    6.153681  176.0  184.0   \n",
       "hollows_ratio                813.0  195.729397    7.398781  181.0  191.0   \n",
       "\n",
       "                               50%    75%     max  \n",
       "compactness                   93.0  100.0   119.0  \n",
       "circularity                   44.0   49.0    59.0  \n",
       "distance_circularity          79.0   98.0   112.0  \n",
       "radius_ratio                 167.0  195.0   333.0  \n",
       "pr.axis_aspect_ratio          61.0   65.0   138.0  \n",
       "max.length_aspect_ratio        8.0   10.0    55.0  \n",
       "scatter_ratio                157.0  198.0   265.0  \n",
       "elongatedness                 43.0   46.0    61.0  \n",
       "pr.axis_rectangularity        20.0   23.0    29.0  \n",
       "max.length_rectangularity    146.0  159.0   188.0  \n",
       "scaled_variance              179.0  217.0   320.0  \n",
       "scaled_variance.1            364.0  586.0  1018.0  \n",
       "scaled_radius_of_gyration    173.0  198.0   268.0  \n",
       "scaled_radius_of_gyration.1   71.0   75.0   135.0  \n",
       "skewness_about                 6.0    9.0    22.0  \n",
       "skewness_about.1              11.0   19.0    41.0  \n",
       "skewness_about.2             189.0  193.0   206.0  \n",
       "hollows_ratio                197.0  201.0   211.0  "
      ]
     },
     "execution_count": 4,
     "metadata": {},
     "output_type": "execute_result"
    }
   ],
   "source": [
    "veh.describe().transpose()"
   ]
  },
  {
   "cell_type": "code",
   "execution_count": 6,
   "metadata": {},
   "outputs": [
    {
     "name": "stdout",
     "output_type": "stream",
     "text": [
      "<class 'pandas.core.frame.DataFrame'>\n",
      "Int64Index: 813 entries, 0 to 845\n",
      "Data columns (total 19 columns):\n",
      "compactness                    813 non-null int64\n",
      "circularity                    813 non-null float64\n",
      "distance_circularity           813 non-null float64\n",
      "radius_ratio                   813 non-null float64\n",
      "pr.axis_aspect_ratio           813 non-null float64\n",
      "max.length_aspect_ratio        813 non-null int64\n",
      "scatter_ratio                  813 non-null float64\n",
      "elongatedness                  813 non-null float64\n",
      "pr.axis_rectangularity         813 non-null float64\n",
      "max.length_rectangularity      813 non-null int64\n",
      "scaled_variance                813 non-null float64\n",
      "scaled_variance.1              813 non-null float64\n",
      "scaled_radius_of_gyration      813 non-null float64\n",
      "scaled_radius_of_gyration.1    813 non-null float64\n",
      "skewness_about                 813 non-null float64\n",
      "skewness_about.1               813 non-null float64\n",
      "skewness_about.2               813 non-null float64\n",
      "hollows_ratio                  813 non-null int64\n",
      "class                          813 non-null object\n",
      "dtypes: float64(14), int64(4), object(1)\n",
      "memory usage: 127.0+ KB\n"
     ]
    }
   ],
   "source": [
    "veh.info()"
   ]
  },
  {
   "cell_type": "code",
   "execution_count": 7,
   "metadata": {},
   "outputs": [
    {
     "data": {
      "text/plain": [
       "compactness                    False\n",
       "circularity                    False\n",
       "distance_circularity           False\n",
       "radius_ratio                   False\n",
       "pr.axis_aspect_ratio           False\n",
       "max.length_aspect_ratio        False\n",
       "scatter_ratio                  False\n",
       "elongatedness                  False\n",
       "pr.axis_rectangularity         False\n",
       "max.length_rectangularity      False\n",
       "scaled_variance                False\n",
       "scaled_variance.1              False\n",
       "scaled_radius_of_gyration      False\n",
       "scaled_radius_of_gyration.1    False\n",
       "skewness_about                 False\n",
       "skewness_about.1               False\n",
       "skewness_about.2               False\n",
       "hollows_ratio                  False\n",
       "class                          False\n",
       "dtype: bool"
      ]
     },
     "execution_count": 7,
     "metadata": {},
     "output_type": "execute_result"
    }
   ],
   "source": [
    "veh.isnull().any()"
   ]
  },
  {
   "cell_type": "markdown",
   "metadata": {},
   "source": [
    "### Drop the independent variable and store it in a different dataframe Y and store all the independent variables in dataframe X "
   ]
  },
  {
   "cell_type": "code",
   "execution_count": 8,
   "metadata": {
    "collapsed": true
   },
   "outputs": [],
   "source": [
    "veh_ind = veh.drop('class', axis=1)"
   ]
  },
  {
   "cell_type": "code",
   "execution_count": 9,
   "metadata": {
    "collapsed": true
   },
   "outputs": [],
   "source": [
    "veh_dep = veh['class']"
   ]
  },
  {
   "cell_type": "markdown",
   "metadata": {},
   "source": [
    "### Standardize the independent variables using z scores or Standard scalar function "
   ]
  },
  {
   "cell_type": "markdown",
   "metadata": {},
   "source": [
    "Note: Since we are not going to perform any supervised learning model on the clusters, we are not splitting the data into test and training"
   ]
  },
  {
   "cell_type": "code",
   "execution_count": 10,
   "metadata": {
    "collapsed": true
   },
   "outputs": [],
   "source": [
    "from sklearn.preprocessing import StandardScaler\n",
    "\n",
    "sc = StandardScaler()\n",
    "veh_std =  sc.fit_transform(veh_ind)"
   ]
  },
  {
   "cell_type": "markdown",
   "metadata": {},
   "source": [
    "### Print the covariance matrix for the standardized independent data"
   ]
  },
  {
   "cell_type": "code",
   "execution_count": 11,
   "metadata": {},
   "outputs": [
    {
     "name": "stdout",
     "output_type": "stream",
     "text": [
      "('Covariance Matrix \\n%s', array([[ 1.00123153,  0.69073497,  0.79092746,  0.68897729,  0.09066804,\n",
      "         0.1505537 ,  0.81502868, -0.78902127,  0.81522961,  0.67573322,\n",
      "         0.76532752,  0.82125027,  0.58212123, -0.25875528,  0.23193313,\n",
      "         0.16859183,  0.29656022,  0.3732647 ],\n",
      "       [ 0.69073497,  1.00123153,  0.79868656,  0.62471862,  0.15521415,\n",
      "         0.25192897,  0.85920548, -0.8261242 ,  0.85719089,  0.96655501,\n",
      "         0.80710097,  0.85197956,  0.93674669,  0.0491303 ,  0.1419004 ,\n",
      "        -0.00197723, -0.1140426 ,  0.04939203],\n",
      "       [ 0.79092746,  0.79868656,  1.00123153,  0.77235395,  0.16358689,\n",
      "         0.26591783,  0.91014241, -0.9138366 ,  0.89836576,  0.77441118,\n",
      "         0.86674929,  0.89288735,  0.70655787, -0.23843852,  0.11041593,\n",
      "         0.278193  ,  0.14543699,  0.34365085],\n",
      "       [ 0.68897729,  0.62471862,  0.77235395,  1.00123153,  0.66819724,\n",
      "         0.45301698,  0.74438595, -0.79674104,  0.71709175,  0.57118076,\n",
      "         0.80778118,  0.73267385,  0.54530637, -0.17556405,  0.04474816,\n",
      "         0.17829807,  0.37605357,  0.47147529],\n",
      "       [ 0.09066804,  0.15521415,  0.16358689,  0.66819724,  1.00123153,\n",
      "         0.6528959 ,  0.11383635, -0.19142882,  0.08709873,  0.13371753,\n",
      "         0.29073296,  0.10079166,  0.1358303 ,  0.17327362, -0.05931667,\n",
      "        -0.04081886,  0.22998448,  0.25788318],\n",
      "       [ 0.1505537 ,  0.25192897,  0.26591783,  0.45301698,  0.6528959 ,\n",
      "         1.00123153,  0.17165622, -0.18346816,  0.16772014,  0.30956088,\n",
      "         0.33153186,  0.15025349,  0.19742152,  0.30870835,  0.01648166,\n",
      "         0.04126053, -0.03058065,  0.13945419],\n",
      "       [ 0.81502868,  0.85920548,  0.91014241,  0.74438595,  0.11383635,\n",
      "         0.17165622,  1.00123153, -0.97461169,  0.99321402,  0.80914895,\n",
      "         0.95123751,  0.99762263,  0.79672833, -0.04568825,  0.07020422,\n",
      "         0.22765518,  0.00997918,  0.13859428],\n",
      "       [-0.78902127, -0.8261242 , -0.9138366 , -0.79674104, -0.19142882,\n",
      "        -0.18346816, -0.97461169,  1.00123153, -0.95151538, -0.7720487 ,\n",
      "        -0.93900061, -0.95803596, -0.76250122,  0.11989713, -0.04667832,\n",
      "        -0.20157325, -0.11771267, -0.23369509],\n",
      "       [ 0.81522961,  0.85719089,  0.89836576,  0.71709175,  0.08709873,\n",
      "         0.16772014,  0.99321402, -0.95151538,  1.00123153,  0.81297896,\n",
      "         0.93680528,  0.99334122,  0.79387149, -0.0338105 ,  0.07879827,\n",
      "         0.23145534, -0.01740457,  0.11734664],\n",
      "       [ 0.67573322,  0.96655501,  0.77441118,  0.57118076,  0.13371753,\n",
      "         0.30956088,  0.80914895, -0.7720487 ,  0.81297896,  1.00123153,\n",
      "         0.74567768,  0.79721018,  0.86630563,  0.03113609,  0.1305165 ,\n",
      "         0.01306069, -0.1081518 ,  0.08689924],\n",
      "       [ 0.76532752,  0.80710097,  0.86674929,  0.80778118,  0.29073296,\n",
      "         0.33153186,  0.95123751, -0.93900061,  0.93680528,  0.74567768,\n",
      "         1.00123153,  0.94878385,  0.77700696,  0.09949344,  0.03427042,\n",
      "         0.20922369,  0.01785045,  0.10511871],\n",
      "       [ 0.82125027,  0.85197956,  0.89288735,  0.73267385,  0.10079166,\n",
      "         0.15025349,  0.99762263, -0.95803596,  0.99334122,  0.79721018,\n",
      "         0.94878385,  1.00123153,  0.79297189, -0.03794995,  0.07248206,\n",
      "         0.22032505,  0.01179646,  0.12527211],\n",
      "       [ 0.58212123,  0.93674669,  0.70655787,  0.54530637,  0.1358303 ,\n",
      "         0.19742152,  0.79672833, -0.76250122,  0.79387149,  0.86630563,\n",
      "         0.77700696,  0.79297189,  1.00123153,  0.17750261,  0.1625974 ,\n",
      "        -0.04120413, -0.22477134, -0.10229307],\n",
      "       [-0.25875528,  0.0491303 , -0.23843852, -0.17556405,  0.17327362,\n",
      "         0.30870835, -0.04568825,  0.11989713, -0.0338105 ,  0.03113609,\n",
      "         0.09949344, -0.03794995,  0.17750261,  1.00123153, -0.08821744,\n",
      "        -0.12074877, -0.74958968, -0.7997942 ],\n",
      "       [ 0.23193313,  0.1419004 ,  0.11041593,  0.04474816, -0.05931667,\n",
      "         0.01648166,  0.07020422, -0.04667832,  0.07879827,  0.1305165 ,\n",
      "         0.03427042,  0.07248206,  0.1625974 , -0.08821744,  1.00123153,\n",
      "        -0.02263933,  0.11127169,  0.0982493 ],\n",
      "       [ 0.16859183, -0.00197723,  0.278193  ,  0.17829807, -0.04081886,\n",
      "         0.04126053,  0.22765518, -0.20157325,  0.23145534,  0.01306069,\n",
      "         0.20922369,  0.22032505, -0.04120413, -0.12074877, -0.02263933,\n",
      "         1.00123153,  0.07803801,  0.20153412],\n",
      "       [ 0.29656022, -0.1140426 ,  0.14543699,  0.37605357,  0.22998448,\n",
      "        -0.03058065,  0.00997918, -0.11771267, -0.01740457, -0.1081518 ,\n",
      "         0.01785045,  0.01179646, -0.22477134, -0.74958968,  0.11127169,\n",
      "         0.07803801,  1.00123153,  0.89515759],\n",
      "       [ 0.3732647 ,  0.04939203,  0.34365085,  0.47147529,  0.25788318,\n",
      "         0.13945419,  0.13859428, -0.23369509,  0.11734664,  0.08689924,\n",
      "         0.10511871,  0.12527211, -0.10229307, -0.7997942 ,  0.0982493 ,\n",
      "         0.20153412,  0.89515759,  1.00123153]]))\n"
     ]
    }
   ],
   "source": [
    "cov_matrix = np.cov(veh_std.T)\n",
    "print('Covariance Matrix \\n%s', cov_matrix)"
   ]
  },
  {
   "cell_type": "markdown",
   "metadata": {},
   "source": [
    "### Print the eigen value and vectors and sort them"
   ]
  },
  {
   "cell_type": "code",
   "execution_count": 12,
   "metadata": {},
   "outputs": [
    {
     "name": "stdout",
     "output_type": "stream",
     "text": [
      "('Eigen Vectors \\n%s', array([[ 2.74447428e-01,  1.27105989e-01, -1.15778231e-01,\n",
      "        -8.00766389e-02,  7.01971756e-02,  1.41269187e-01,\n",
      "         4.78882430e-01, -5.51289488e-01,  4.70291162e-01,\n",
      "         2.71011706e-01, -3.88480982e-02,  3.37118452e-02,\n",
      "         1.68590056e-01, -4.08522941e-02,  3.33699383e-02,\n",
      "         4.49941671e-02, -8.72862091e-03,  4.27500161e-04],\n",
      "       [ 2.94003600e-01, -1.34430321e-01, -3.64513515e-02,\n",
      "        -1.90342131e-01, -8.66726774e-02, -2.78132128e-01,\n",
      "        -2.32112671e-01, -1.77146565e-01,  8.14934003e-03,\n",
      "        -8.72464933e-02,  1.10855608e-02, -1.12606467e-01,\n",
      "        -6.30087058e-02,  1.60416148e-01, -4.20446984e-01,\n",
      "         6.57048309e-01, -1.69794331e-01,  1.73650656e-02],\n",
      "       [ 3.04380218e-01,  7.21448351e-02, -5.51881577e-02,\n",
      "         6.93709791e-02,  3.89590342e-02, -1.36322721e-01,\n",
      "         6.01737282e-02,  4.36495932e-01,  1.76997855e-01,\n",
      "         2.14799970e-01, -7.02546566e-01, -2.85482662e-02,\n",
      "        -2.16299609e-01, -2.13651022e-01, -1.19627607e-01,\n",
      "        -2.21685599e-02,  2.86460253e-02, -1.13772044e-02],\n",
      "       [ 2.68888600e-01,  1.76416250e-01,  2.81804540e-01,\n",
      "         4.46505645e-02, -4.36633252e-02,  2.55012111e-01,\n",
      "        -1.69695187e-01,  9.74234227e-02,  2.23935334e-01,\n",
      "         5.59954560e-02,  1.18842781e-01, -1.28208356e-01,\n",
      "        -9.69337723e-02,  5.77453359e-01, -3.63740754e-01,\n",
      "        -3.87244720e-01,  5.58540324e-03, -3.08910335e-02],\n",
      "       [ 8.30199914e-02,  9.87633531e-02,  6.45768877e-01,\n",
      "        -3.00532206e-02, -3.84681508e-02,  2.37902011e-01,\n",
      "        -3.85740888e-01, -7.62877575e-02,  2.97909278e-01,\n",
      "        -1.12777107e-01, -3.62581375e-02,  7.77877534e-02,\n",
      "         1.61980790e-02, -3.80214700e-01,  2.44664158e-01,\n",
      "         1.96258041e-01,  6.76296225e-03,  2.56226259e-02],\n",
      "       [ 9.84825471e-02, -3.02068515e-02,  5.86412351e-01,\n",
      "        -2.97502955e-02,  2.12001001e-01, -4.38916094e-01,\n",
      "         4.85306492e-01,  1.73621590e-01, -1.58406976e-01,\n",
      "         1.23445271e-01,  2.61997629e-01, -1.32539287e-01,\n",
      "         4.89580300e-02, -7.29902818e-02, -8.06600957e-02,\n",
      "         2.25960880e-03,  2.24680847e-02, -9.17782032e-03],\n",
      "       [ 3.16688948e-01, -4.43899402e-02, -9.85848213e-02,\n",
      "         9.44172353e-02, -1.70159521e-02,  1.16490485e-01,\n",
      "         6.58373536e-02,  1.02868451e-01, -6.59439525e-02,\n",
      "        -1.69547227e-01,  1.58594849e-01,  1.00862500e-01,\n",
      "         2.84033960e-02, -1.01546016e-01, -7.06019867e-02,\n",
      "         1.64936005e-02,  3.60489964e-01,  7.97232421e-01],\n",
      "       [-3.13205048e-01, -1.52539710e-02,  5.66515157e-02,\n",
      "        -8.50674367e-02,  7.58227573e-02, -1.47678917e-01,\n",
      "         1.50506530e-02, -2.16260508e-01,  1.67628175e-01,\n",
      "         1.45780526e-01,  5.47593166e-02,  7.71897833e-02,\n",
      "        -8.31773188e-01,  7.90205379e-02,  6.38409127e-02,\n",
      "        -5.69023288e-04,  9.20983495e-02,  2.18434847e-01],\n",
      "       [ 3.13612229e-01, -5.72306050e-02, -1.12039253e-01,\n",
      "         9.18974234e-02,  7.39329767e-04,  9.15033641e-02,\n",
      "         9.77300277e-02,  7.04346329e-02, -1.48114965e-02,\n",
      "        -2.02572760e-01,  2.71336756e-01,  2.11908632e-01,\n",
      "        -2.82090175e-01, -2.95199956e-01, -4.95392297e-02,\n",
      "        -2.00345897e-01, -6.96385259e-01, -2.10132827e-02],\n",
      "       [ 2.81285672e-01, -1.20324381e-01, -2.41324720e-02,\n",
      "        -1.92293894e-01, -6.42432032e-02, -4.62568841e-01,\n",
      "        -1.07288254e-01, -2.51590945e-01,  9.46685154e-02,\n",
      "        -4.77073545e-01, -1.54729824e-01, -2.00106636e-01,\n",
      "        -5.45386339e-03,  6.38562534e-02,  3.13768524e-01,\n",
      "        -4.02768408e-01,  9.88667659e-02, -2.88936428e-02],\n",
      "       [ 3.09161565e-01, -6.19096771e-02,  5.97234736e-02,\n",
      "         1.19475682e-01,  2.56413035e-03,  2.30563287e-01,\n",
      "         1.14298332e-01,  4.88441109e-02, -3.01488163e-01,\n",
      "         1.19097512e-01, -9.32732969e-02, -1.86145164e-01,\n",
      "        -1.60924768e-01,  3.95136488e-01,  6.21222770e-01,\n",
      "         2.74699416e-01, -1.45949504e-01,  3.14878700e-02],\n",
      "       [ 3.14163506e-01, -4.80210991e-02, -1.09452782e-01,\n",
      "         9.13175862e-02, -1.94434681e-02,  1.52146030e-01,\n",
      "         8.22431682e-02,  3.60905529e-02, -7.40065725e-02,\n",
      "        -1.52179649e-01,  2.46983541e-01,  1.26013043e-01,\n",
      "        -2.86608069e-01, -1.50954509e-01, -4.19518767e-02,\n",
      "         1.10399001e-01,  5.58796482e-01, -5.57166843e-01],\n",
      "       [ 2.70337322e-01, -2.10169704e-01, -3.70630986e-02,\n",
      "        -2.04886762e-01, -6.31950148e-02, -1.33617264e-01,\n",
      "        -3.91191664e-01, -1.24747692e-01, -2.41941897e-01,\n",
      "         6.71018683e-01,  1.52481306e-01,  1.54687992e-01,\n",
      "         5.63783601e-02, -1.46437079e-01,  7.10362584e-02,\n",
      "        -2.45679952e-01,  5.39116874e-02,  6.29343908e-03],\n",
      "       [-2.56036923e-02, -4.93793797e-01,  2.75779539e-01,\n",
      "         7.15330519e-02,  1.49126516e-01,  2.32402344e-01,\n",
      "         1.17229443e-01, -3.40135356e-01, -3.21737825e-01,\n",
      "        -1.32621729e-01, -4.18580991e-01,  2.96651486e-01,\n",
      "        -1.01189623e-02,  6.94828591e-02, -2.54533399e-01,\n",
      "        -1.20174593e-01,  7.13365890e-03, -1.14105168e-02],\n",
      "       [ 3.96799548e-02,  5.62601909e-02, -1.10191782e-01,\n",
      "        -6.05082831e-01,  7.29057797e-01,  2.06512153e-01,\n",
      "        -7.73337339e-02,  1.56634679e-01, -2.20208315e-02,\n",
      "        -1.00708823e-01,  1.21985888e-02, -2.86078067e-04,\n",
      "         8.06263453e-03,  2.22549225e-02,  2.86625550e-02,\n",
      "         1.14302731e-02,  5.49332669e-04, -4.06288415e-03],\n",
      "       [ 6.31600075e-02,  1.21035426e-01, -8.04993535e-02,\n",
      "         6.62058494e-01,  5.99761520e-01, -1.94570542e-01,\n",
      "        -2.85755608e-01, -2.13789724e-01,  6.04987464e-03,\n",
      "         3.43286369e-02,  3.52770922e-02, -8.44396504e-02,\n",
      "         3.79278980e-02, -1.70270478e-02, -8.72192274e-03,\n",
      "         1.35201740e-02, -1.11097291e-03, -6.90089495e-03],\n",
      "       [ 3.09410342e-02,  5.44491703e-01,  3.17280047e-02,\n",
      "        -1.01853490e-01, -9.41079552e-02,  1.46274675e-01,\n",
      "         1.40731375e-02, -3.11235076e-01, -5.03554117e-01,\n",
      "        -2.17245830e-02, -1.27446973e-01, -3.97342182e-01,\n",
      "        -1.43127328e-01, -2.67301086e-01, -1.84705983e-01,\n",
      "        -9.08486701e-02, -3.84346601e-03,  3.72910520e-02],\n",
      "       [ 7.93661290e-02,  5.38881650e-01,  5.69462532e-02,\n",
      "        -5.15794859e-02, -2.88601711e-02, -2.49058960e-01,\n",
      "         1.61871702e-04, -3.24817676e-02, -1.71175492e-01,\n",
      "        -7.80097572e-02, -9.59270378e-02,  7.18862391e-01,\n",
      "         5.65465154e-02,  2.41670167e-01,  8.14613423e-02,\n",
      "         6.03519942e-02, -8.55457184e-04, -1.59113471e-02]]))\n",
      "('\\n Eigen Values \\n%s', array([9.45338700e+00, 2.98961888e+00, 1.91768721e+00, 1.17011696e+00,\n",
      "       9.29094522e-01, 5.32171101e-01, 3.59073770e-01, 2.22360825e-01,\n",
      "       1.56093142e-01, 9.28191209e-02, 6.35293025e-02, 4.43920604e-02,\n",
      "       3.47623783e-02, 2.12103219e-02, 1.61152840e-02, 1.31079986e-02,\n",
      "       6.26175180e-03, 3.65863172e-04]))\n"
     ]
    }
   ],
   "source": [
    "eig_vals, eig_vecs = np.linalg.eig(cov_matrix)\n",
    "print('Eigen Vectors \\n%s', eig_vecs)\n",
    "print('\\n Eigen Values \\n%s', eig_vals)"
   ]
  },
  {
   "cell_type": "markdown",
   "metadata": {},
   "source": [
    "### Plot the cumulative variance explained plot and select the number of components = 10"
   ]
  },
  {
   "cell_type": "code",
   "execution_count": 13,
   "metadata": {},
   "outputs": [
    {
     "name": "stdout",
     "output_type": "stream",
     "text": [
      "18.022167487684747\n",
      "[52.45421787102295, 16.58856448401107, 10.64071350706088, 6.492653904778656, 5.155287358284021, 2.9528695776308225, 1.9924005820948842, 1.2338184376584191, 0.8661174766400785, 0.5150275126135102, 0.35250644840891865, 0.2463192088533332, 0.19288677849320437, 0.11769018297937131, 0.08941923345179242, 0.07273264199929691, 0.03474472093223145, 0.002030073086557422]\n"
     ]
    }
   ],
   "source": [
    "eig_tot = sum(eig_vals)#[np.sum(eig_vals) for arr in eig_vals] # [np.sum(arr) for arr in data]\n",
    "print(eig_tot)\n",
    "#sum(v for k, v in eig_vals.items() if 'W' in k)\n",
    "eig_var = [(arr/eig_tot)*100 for arr in eig_vals] # [np.sum(arr) for arr in data]\n",
    "print(eig_var)"
   ]
  },
  {
   "cell_type": "code",
   "execution_count": 14,
   "metadata": {},
   "outputs": [
    {
     "data": {
      "text/plain": [
       "<Container object of 18 artists>"
      ]
     },
     "execution_count": 14,
     "metadata": {},
     "output_type": "execute_result"
    },
    {
     "data": {
      "image/png": "[encoded data removed]",
      "text/plain": [
       "<matplotlib.figure.Figure at 0x7f0e8502ae50>"
      ]
     },
     "metadata": {},
     "output_type": "display_data"
    }
   ],
   "source": [
    "plt.bar(range(18), eig_var)"
   ]
  },
  {
   "cell_type": "markdown",
   "metadata": {},
   "source": [
    "### Use K means over the reduced dataset"
   ]
  },
  {
   "cell_type": "code",
   "execution_count": 23,
   "metadata": {},
   "outputs": [],
   "source": [
    "from sklearn.decomposition import PCA\n",
    "veh_red = PCA(n_components=10).fit_transform(veh_ind)"
   ]
  },
  {
   "cell_type": "markdown",
   "metadata": {},
   "source": [
    "### Assign a dummy array called distortion\n",
    "\n",
    "You can later use this array to plot the elbow plot"
   ]
  },
  {
   "cell_type": "code",
   "execution_count": 27,
   "metadata": {
    "collapsed": true
   },
   "outputs": [],
   "source": [
    "distortions = []"
   ]
  },
  {
   "cell_type": "markdown",
   "metadata": {},
   "source": [
    "### Calculating distortion - C distance\n",
    "\n",
    "Iterating values of k from 1 to 10 fit K means model Using c distance - Get the measure for Sum of squares error."
   ]
  },
  {
   "cell_type": "code",
   "execution_count": 28,
   "metadata": {
    "collapsed": true
   },
   "outputs": [],
   "source": [
    "from sklearn.cluster import KMeans\n",
    "from sklearn import metrics\n",
    "from scipy.spatial.distance import cdist\n",
    "K = range(1,10)\n",
    "for k in K:\n",
    "    kmeanModel = KMeans(n_clusters=k).fit(veh_red)\n",
    "    kmeanModel.fit(veh_red)\n",
    "    distortions.append(\n",
    "        sum(np.min(cdist(veh_red, kmeanModel.cluster_centers_, 'euclidean'), axis=1))/ veh_red.shape[0])"
   ]
  },
  {
   "cell_type": "markdown",
   "metadata": {},
   "source": [
    "### Plotting Elbow/ Scree Plot - Find optimal K\n",
    "\n",
    "Use Matplotlib to plot the scree plot - Note: Scree plot plots distortion vs the no of clusters"
   ]
  },
  {
   "cell_type": "code",
   "execution_count": 29,
   "metadata": {},
   "outputs": [
    {
     "data": {
      "image/png": "[encoded data removed]",
      "text/plain": [
       "<matplotlib.figure.Figure at 0x7f0e30042fd0>"
      ]
     },
     "metadata": {},
     "output_type": "display_data"
    }
   ],
   "source": [
    "plt.plot(K, distortions, 'bx-')\n",
    "plt.xlabel('k')\n",
    "plt.ylabel('Distortion')\n",
    "plt.title('The Elbow Method showing the optimal k')\n",
    "plt.show()"
   ]
  },
  {
   "cell_type": "markdown",
   "metadata": {},
   "source": [
    "### Use kmeans.labels_ function to print out the labels of the classes"
   ]
  },
  {
   "cell_type": "code",
   "execution_count": 30,
   "metadata": {},
   "outputs": [
    {
     "name": "stdout",
     "output_type": "stream",
     "text": [
      "[0 0 1 0 0 0 3 3 3 3 0 0 2 1 3 2 1 0 3 0 0 1 0 3 1 2 0 0 3 3 1 0 0 0 1 0 1\n",
      " 3 0 0 1 0 3 0 0 0 3 0 1 0 1 3 2 0 1 3 2 3 3 0 2 0 1 0 2 1 2 3 0 2 0 0 0 1\n",
      " 3 0 0 1 0 3 2 3 1 0 2 0 0 1 0 0 2 0 0 0 3 3 2 2 0 0 2 0 0 0 3 0 0 2 1 2 3\n",
      " 0 0 3 0 0 0 0 0 2 2 0 2 3 1 0 0 3 3 0 0 1 0 0 1 0 0 0 3 2 2 0 1 0 1 0 3 0\n",
      " 3 2 0 3 1 1 0 1 0 3 1 1 0 1 0 0 2 0 3 1 3 0 3 2 2 0 0 1 0 2 0 1 0 0 1 0 0\n",
      " 0 0 0 1 1 3 0 0 0 1 2 3 0 1 3 0 1 0 3 1 0 0 3 0 1 3 1 0 3 3 0 1 3 0 0 1 0\n",
      " 0 0 0 1 0 3 0 0 1 3 1 0 0 0 1 0 0 2 1 3 2 3 3 2 0 0 3 3 0 2 0 1 0 0 3 1 0\n",
      " 2 0 0 1 0 0 2 3 3 0 0 3 1 0 2 3 2 2 1 0 0 3 0 0 1 1 2 2 0 0 2 0 3 3 2 3 1\n",
      " 1 0 2 0 0 2 0 0 0 2 1 0 1 1 0 1 0 0 0 3 3 1 1 1 0 0 3 2 0 0 0 2 2 0 1 0 2\n",
      " 1 2 0 0 0 2 0 3 0 0 2 0 0 3 1 1 3 3 1 3 1 0 1 3 0 2 0 0 1 0 3 0 0 2 0 0 0\n",
      " 3 1 0 1 3 2 0 3 3 0 0 0 3 0 3 0 1 0 0 0 3 1 3 0 2 3 1 0 1 3 1 1 0 0 1 3 3\n",
      " 0 2 2 2 0 3 2 1 0 2 1 1 0 0 0 0 0 2 0 3 0 1 2 3 2 0 0 2 0 0 1 3 3 1 1 1 0\n",
      " 1 1 0 2 0 1 1 0 3 0 0 1 0 0 1 1 0 0 1 1 0 0 3 1 1 1 3 0 2 1 1 0 0 1 0 0 1\n",
      " 0 3 3 0 1 0 3 2 3 0 1 0 2 1 0 0 2 1 1 3 3 0 1 3 2 1 0 3 0 0 0 0 3 0 0 1 3\n",
      " 3 2 0 2 2 1 3 0 1 1 0 1 0 0 2 1 0 0 3 1 0 0 0 1 1 1 2 0 3 0 3 1 1 2 3 1 3\n",
      " 0 1 0 3 0 0 3 2 2 3 2 3 0 3 1 0 2 1 3 3 3 0 1 0 3 0 3 3 3 3 3 1 1 0 2 1 3\n",
      " 1 0 0 2 3 3 1 0 2 3 3 0 0 2 1 2 0 2 2 0 0 0 0 1 0 1 3 0 2 2 3 0 0 3 2 3 2\n",
      " 0 0 3 0 2 1 0 0 2 2 2 0 0 1 0 2 0 0 0 0 0 1 0 0 3 1 3 2 0 0 2 0 2 3 0 0 0\n",
      " 0 1 1 0 3 1 1 0 3 0 2 1 2 2 1 0 1 2 0 1 1 0 1 0 2 0 3 2 0 3 1 1 1 0 1 3 0\n",
      " 2 1 1 0 1 0 3 2 0 0 3 0 0 2 2 3 0 0 3 3 2 0 0 0 2 2 3 1 1 0 0 0 2 3 0 2 2\n",
      " 0 3 2 2 1 1 3 2 3 2 1 3 0 1 3 1 0 0 3 1 2 0 3 3 1 1 0 0 3 0 2 2 0 0 1 0 3\n",
      " 1 3 0 0 0 0 0 1 2 2 3 1 0 2 1 0 2 1 3 0 0 0 1 0 3 1 3 0 0 3 3 0 0 1 3 3]\n"
     ]
    }
   ],
   "source": [
    "kmeans = KMeans(n_clusters=4)\n",
    "kmeans.fit(veh_red)\n",
    "print(kmeans.labels_)\n",
    "clusters = kmeans.labels_"
   ]
  },
  {
   "cell_type": "markdown",
   "metadata": {},
   "source": [
    "### Observe the previous internal lab assessment on K means - Look at the final result of clustering. Observe after reducing the components, has the clustering changed?"
   ]
  },
  {
   "cell_type": "markdown",
   "metadata": {},
   "source": [
    "What is your inference?"
   ]
  },
  {
   "cell_type": "code",
   "execution_count": 32,
   "metadata": {},
   "outputs": [
    {
     "data": {
      "text/plain": [
       "(813,)"
      ]
     },
     "execution_count": 32,
     "metadata": {},
     "output_type": "execute_result"
    }
   ],
   "source": [
    "#Clustering in this method is resulting in 4 clusters "
   ]
  },
  {
   "cell_type": "code",
   "execution_count": 34,
   "metadata": {},
   "outputs": [],
   "source": [
    "veh_red_df = pd.DataFrame(veh_red)"
   ]
  },
  {
   "cell_type": "code",
   "execution_count": 35,
   "metadata": {},
   "outputs": [
    {
     "name": "stdout",
     "output_type": "stream",
     "text": [
      "<class 'pandas.core.frame.DataFrame'>\n",
      "RangeIndex: 813 entries, 0 to 812\n",
      "Data columns (total 10 columns):\n",
      "0    813 non-null float64\n",
      "1    813 non-null float64\n",
      "2    813 non-null float64\n",
      "3    813 non-null float64\n",
      "4    813 non-null float64\n",
      "5    813 non-null float64\n",
      "6    813 non-null float64\n",
      "7    813 non-null float64\n",
      "8    813 non-null float64\n",
      "9    813 non-null float64\n",
      "dtypes: float64(10)\n",
      "memory usage: 63.6 KB\n"
     ]
    }
   ],
   "source": [
    "veh_red_df.info()"
   ]
  },
  {
   "cell_type": "code",
   "execution_count": null,
   "metadata": {
    "collapsed": true
   },
   "outputs": [],
   "source": []
  }
 ],
 "metadata": {
  "kernelspec": {
   "display_name": "Python 2",
   "language": "python",
   "name": "python2"
  },
  "language_info": {
   "codemirror_mode": {
    "name": "ipython",
    "version": 2
   },
   "file_extension": ".py",
   "mimetype": "text/x-python",
   "name": "python",
   "nbconvert_exporter": "python",
   "pygments_lexer": "ipython2",
   "version": "2.7.14"
  }
 },
 "nbformat": 4,
 "nbformat_minor": 2
}
